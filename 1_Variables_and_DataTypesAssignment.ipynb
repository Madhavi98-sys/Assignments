{
  "cells": [
    {
      "cell_type": "markdown",
      "metadata": {
        "id": "pkVUqhRx_yDV"
      },
      "source": [
        "# Assignment Instructions\n",
        "\n",
        "`Hello Innominion,`\n",
        "\n",
        "- **Try to attempt all the questions in every possible way.**\n",
        "- **Some other topics are required to solve some questions. don't panic.**\n",
        "- **Those questions can be answered after the topics are taught.**\n",
        "\n",
        "\n",
        "- `Join Mentoring Session for the Support/Doubts Resolving with Our Technical Mentors (2.00 PM - 6.00 PM  Mon-Sat)`\n",
        "\n",
        "Happy Learning !!!"
      ]
    },
    {
      "cell_type": "markdown",
      "metadata": {
        "id": "0uN-HqOH_yDx"
      },
      "source": [
        "## Basics of Python"
      ]
    },
    {
      "cell_type": "markdown",
      "metadata": {
        "id": "dd8Gezxb_yDy"
      },
      "source": [
        "> `Question:` Print your name"
      ]
    },
    {
      "cell_type": "code",
      "execution_count": 1,
      "metadata": {
        "colab": {
          "base_uri": "https://localhost:8080/"
        },
        "id": "_d-JD09__yDy",
        "outputId": "6f23b42b-71df-4759-f7ba-84c812e7a959"
      },
      "outputs": [
        {
          "output_type": "stream",
          "name": "stdout",
          "text": [
            "My name is Innomatics\n"
          ]
        }
      ],
      "source": [
        "print(\"My name is Innomatics\")"
      ]
    },
    {
      "cell_type": "markdown",
      "metadata": {
        "id": "QrnjaNUz_yD0"
      },
      "source": [
        "> `Question:` What is a variable? Write a Few words about Variables. Create a Variable with an Example."
      ]
    },
    {
      "cell_type": "code",
      "execution_count": null,
      "metadata": {
        "id": "6-hgNcNV_yD0"
      },
      "outputs": [],
      "source": [
        "A variable is used to store the value. A variable can start with a letter or an underscore.Variable name should start with letter(a-zA-Z).In variable name, no special characters allowed other than underscore (_)."
      ]
    },
    {
      "cell_type": "code",
      "execution_count": 4,
      "metadata": {
        "id": "XjelZ1Yb_yD1",
        "colab": {
          "base_uri": "https://localhost:8080/"
        },
        "outputId": "ae6fa84a-2cf1-44e8-cdbe-44c7a03747ee"
      },
      "outputs": [
        {
          "output_type": "stream",
          "name": "stdout",
          "text": [
            "18\n",
            "19\n",
            "20\n"
          ]
        }
      ],
      "source": [
        "_age = 18\n",
        "age_ = 19\n",
        "Age = 20\n",
        "print(_age)\n",
        "print(age_)\n",
        "print(Age)"
      ]
    },
    {
      "cell_type": "markdown",
      "metadata": {
        "id": "TI9CjoDD_yD2"
      },
      "source": [
        ">`Question:` Assume that we execute the following assignment statements:\n",
        "width = 17\n",
        "height = 12.0\n",
        "delimiter = '.'\n",
        "For each of the following expressions, write the value of the expression and the type (of the value of\n",
        "the expression).\n",
        "1. width/2\n",
        "2. width/2.0\n",
        "3. height/3\n",
        "4. 1 + 2 * 5\n",
        "5. delimiter * 5"
      ]
    },
    {
      "cell_type": "code",
      "execution_count": 5,
      "metadata": {
        "id": "T961_lHo_yD3",
        "colab": {
          "base_uri": "https://localhost:8080/"
        },
        "outputId": "368277ef-e4c0-4d87-e5c8-82a46760f0b5"
      },
      "outputs": [
        {
          "output_type": "stream",
          "name": "stdout",
          "text": [
            "8.5\n",
            "8.5\n",
            "4.0\n",
            "11\n",
            ".....\n"
          ]
        }
      ],
      "source": [
        "width = 17\n",
        "height = 12.0\n",
        "delimiter = '.'\n",
        "print(width/2)\n",
        "print(width/2.0)\n",
        "print(height/3)\n",
        "print(1 + 2 * 5)\n",
        "print(delimiter * 5)"
      ]
    },
    {
      "cell_type": "raw",
      "metadata": {
        "id": "jobP1922_yD4"
      },
      "source": [
        "# Sample Outputs\n",
        "1. width/2 = 8.5\n",
        "2. width/2.0 = 8.5\n",
        "3. height/3 = 4.0\n",
        "4. 11\n",
        "5. ....."
      ]
    },
    {
      "cell_type": "markdown",
      "metadata": {
        "id": "eYwQ_wXB_yD4"
      },
      "source": [
        "> `Question:` Add two number by taking variable names as first and seccond"
      ]
    },
    {
      "cell_type": "code",
      "execution_count": 8,
      "metadata": {
        "id": "QzyOlIDN_yD5",
        "colab": {
          "base_uri": "https://localhost:8080/"
        },
        "outputId": "b6a7e791-3e7e-4df4-b45f-c4c705b6428e"
      },
      "outputs": [
        {
          "output_type": "stream",
          "name": "stdout",
          "text": [
            "Enter first number: 100\n",
            "Enter second number: 200\n",
            "Addition of two numbers are :  300\n"
          ]
        }
      ],
      "source": [
        "#CODE HERE\n",
        "first = int(input(\"Enter first number: \"))\n",
        "second = int(input(\"Enter second number: \"))\n",
        "print(\"Addition of two numbers are : \" ,first + second)"
      ]
    },
    {
      "cell_type": "code",
      "execution_count": null,
      "metadata": {
        "id": "KuC6CNbs_yD5",
        "outputId": "d60bbaca-6173-4520-bcb7-d5f91b37b3d7"
      },
      "outputs": [
        {
          "name": "stdout",
          "output_type": "stream",
          "text": [
            "first number is : 100\n",
            "second number is : 200\n",
            "Addition of two numbers are : 300\n"
          ]
        }
      ],
      "source": []
    },
    {
      "cell_type": "markdown",
      "metadata": {
        "id": "lJb2NoWn_yD5"
      },
      "source": [
        "> `Question:` Add your first name and second name"
      ]
    },
    {
      "cell_type": "code",
      "execution_count": null,
      "metadata": {
        "id": "wG3PHBL2_yD5"
      },
      "outputs": [],
      "source": [
        "# CODE HERE"
      ]
    },
    {
      "cell_type": "code",
      "execution_count": 9,
      "metadata": {
        "id": "oXYS5UE-_yD6",
        "outputId": "9430e86a-98cc-4a2b-e88c-683433b5938f",
        "colab": {
          "base_uri": "https://localhost:8080/"
        }
      },
      "outputs": [
        {
          "output_type": "stream",
          "name": "stdout",
          "text": [
            "My first name is : sachin\n",
            "My second name is : Tendulkar\n",
            "My full name is :  sachinTendulkar\n"
          ]
        }
      ],
      "source": [
        "firstname = input(\"My first name is : \")\n",
        "secondname = input(\"My second name is : \")\n",
        "print(\"My full name is : \", firstname + secondname)"
      ]
    },
    {
      "cell_type": "code",
      "execution_count": null,
      "metadata": {
        "id": "sK2lkmrn_yD6"
      },
      "outputs": [],
      "source": []
    },
    {
      "cell_type": "markdown",
      "metadata": {
        "id": "0XvfZxPn_yD6"
      },
      "source": [
        "> `Question:` print the datatypes of the following\n",
        "- 10,'10',True,10.5"
      ]
    },
    {
      "cell_type": "code",
      "execution_count": 10,
      "metadata": {
        "id": "74aIc_Rs_yD6",
        "colab": {
          "base_uri": "https://localhost:8080/"
        },
        "outputId": "529e24af-8859-40b1-e4c9-6522b36f9fd8"
      },
      "outputs": [
        {
          "output_type": "stream",
          "name": "stdout",
          "text": [
            "<class 'int'>\n",
            "<class 'str'>\n",
            "<class 'bool'>\n",
            "<class 'float'>\n"
          ]
        }
      ],
      "source": [
        "# CODE HERE\n",
        "print(type(10))\n",
        "print(type('10'))\n",
        "print(type(True))\n",
        "print(type(10.5))"
      ]
    },
    {
      "cell_type": "code",
      "execution_count": null,
      "metadata": {
        "id": "-9yN77T-_yD7",
        "outputId": "7cd75159-ebde-4bdd-c95f-0ff3febd614a"
      },
      "outputs": [
        {
          "name": "stdout",
          "output_type": "stream",
          "text": [
            "10 -  <class 'int'>\n",
            "'10' -  <class 'str'>\n",
            "True -  <class 'bool'>\n",
            "10.5 -  <class 'float'>\n"
          ]
        }
      ],
      "source": []
    },
    {
      "cell_type": "markdown",
      "metadata": {
        "id": "CjyH-gdr_yD7"
      },
      "source": [
        " `Question:`\n",
        "> - num_int = 123\n",
        "> - num_str = \"456\"\n",
        "> - Add num_int and num_str\n",
        "- `hint: first need to convert num_str into integer`"
      ]
    },
    {
      "cell_type": "code",
      "execution_count": 12,
      "metadata": {
        "id": "WAurQTEu_yD7",
        "colab": {
          "base_uri": "https://localhost:8080/"
        },
        "outputId": "fcbb9b97-c7e9-4425-c51e-d8b12e3e8984"
      },
      "outputs": [
        {
          "output_type": "stream",
          "name": "stdout",
          "text": [
            "579\n"
          ]
        }
      ],
      "source": [
        "# CODE HERE\n",
        "num_int = 123\n",
        "num_str = \"456\"\n",
        "print(num_int + int(num_str))"
      ]
    },
    {
      "cell_type": "code",
      "execution_count": null,
      "metadata": {
        "id": "mnN9H08r_yD7",
        "outputId": "e416d5eb-041c-4a40-d061-9b0040badc09"
      },
      "outputs": [
        {
          "name": "stdout",
          "output_type": "stream",
          "text": [
            "Addition of 123 and 456 is :  579\n"
          ]
        }
      ],
      "source": []
    },
    {
      "cell_type": "code",
      "execution_count": null,
      "metadata": {
        "id": "RGR_O1We_yD7"
      },
      "outputs": [],
      "source": []
    },
    {
      "cell_type": "markdown",
      "metadata": {
        "id": "Hrym89IL_yD8"
      },
      "source": [
        "### Advanced Questions"
      ]
    },
    {
      "cell_type": "markdown",
      "metadata": {
        "id": "zQ0P88Rt_yD8"
      },
      "source": [
        "> `Question:` The volume of a sphere with radius r is  4/3πr3  . What is the volume of a sphere with radius 5?"
      ]
    },
    {
      "cell_type": "code",
      "execution_count": 15,
      "metadata": {
        "id": "ofW2meY8_yD9",
        "colab": {
          "base_uri": "https://localhost:8080/"
        },
        "outputId": "00d42905-bf35-407e-c154-45fef29a9fd8"
      },
      "outputs": [
        {
          "output_type": "stream",
          "name": "stdout",
          "text": [
            "the volume of a sphere with radius 5:  523.3333333333334\n"
          ]
        }
      ],
      "source": [
        "# CODE HERE\n",
        "r = 5\n",
        "volume = (4/3)*(3.14)*(r**3)\n",
        "print(\"the volume of a sphere with radius 5: \",volume)"
      ]
    },
    {
      "cell_type": "markdown",
      "metadata": {
        "id": "ZbetXHBn_yD-"
      },
      "source": [
        "> `Question:` Suppose the cover price of a book is Rs.24.95, but bookstores get a 40% discount. Shipping costs Rs.3 for the first copy and 75 paise for each additional copy. What is the total wholesale cost for 60 copies?"
      ]
    },
    {
      "cell_type": "code",
      "execution_count": null,
      "metadata": {
        "id": "zCRaXjsU_yD-"
      },
      "outputs": [],
      "source": [
        "# CODE HERE\n",
        "priceofbook = 24.95\n",
        "discount = 0.4\n",
        "shipping = 3"
      ]
    },
    {
      "cell_type": "code",
      "execution_count": null,
      "metadata": {
        "id": "2Z9Gtmsl_yD-"
      },
      "outputs": [],
      "source": []
    },
    {
      "cell_type": "code",
      "execution_count": null,
      "metadata": {
        "id": "-TgivX8w_yD-"
      },
      "outputs": [],
      "source": []
    },
    {
      "cell_type": "markdown",
      "metadata": {
        "id": "yCKmCzZj_yD-"
      },
      "source": [
        "# [Innomatics Research Labs](https:/innomatics.in/)\n",
        "[www.innomatics.in](https:/innomatics.in/)"
      ]
    }
  ],
  "metadata": {
    "kernelspec": {
      "display_name": "Python 3",
      "language": "python",
      "name": "python3"
    },
    "language_info": {
      "codemirror_mode": {
        "name": "ipython",
        "version": 3
      },
      "file_extension": ".py",
      "mimetype": "text/x-python",
      "name": "python",
      "nbconvert_exporter": "python",
      "pygments_lexer": "ipython3",
      "version": "3.8.5"
    },
    "colab": {
      "provenance": []
    }
  },
  "nbformat": 4,
  "nbformat_minor": 0
}