{
  "cells": [
    {
      "cell_type": "markdown",
      "metadata": {
        "id": "fQbFwO7Bpzw3"
      },
      "source": [
        "# Assignment Instructions\n",
        "\n",
        "`Hello Innominion,`\n",
        "\n",
        "- **Try to attempt all the questions in every possible way.**\n",
        "- **Some other topics are required to solve some questions. don't panic.**\n",
        "- **Those questions can be answered after the topics are taught.**\n",
        "\n",
        "\n",
        "- `Join Mentoring Session for the Support/Doubts Resolving with Our Technical Mentors (2.00 PM - 6.00 PM  Mon-Sat)`\n",
        "\n",
        "Happy Learning !!!"
      ]
    },
    {
      "cell_type": "code",
      "execution_count": null,
      "metadata": {
        "id": "KaSjwz5Rpzw9"
      },
      "outputs": [],
      "source": []
    },
    {
      "cell_type": "markdown",
      "metadata": {
        "id": "UGpT16fKpzw_"
      },
      "source": [
        "# Strings - Execrise"
      ]
    },
    {
      "cell_type": "code",
      "execution_count": 2,
      "metadata": {
        "id": "GJfKC3V9pzxA"
      },
      "outputs": [],
      "source": [
        "text = \"\"\"The University of Hawaii began using radio to send digital information as early as 1971,using ALOHAnet.\n",
        "Friedhelm Hillebrand conceptualised SMS in 1984 while working for Deutsche Telekom. Sitting at a typewriter at home,\n",
        "Hillebrand typed out random sentences and counted every letter, number, punctuation, and space.\n",
        "Almost every time, the messages contained fewer than 160 characters, thus giving the basis for the\n",
        "limit one could type via text messaging. With Bernard Ghillebaert of France Télécom, he developed\n",
        "a proposal for the GSM (Groupe Spécial Mobile) meeting in February 1985 in Oslo.\n",
        "The first technical solution evolved in a GSM subgroup under the leadership of Finn Trosby.\n",
        "It was further developed under the leadership of Kevin Holley and Ian Harris (see Short Message Service).\n",
        "SMS forms an integral part of SS7 (Signalling System No. 7). Under SS7, it is a \"state\" with a 160 character data,\n",
        "coded in the ITU-T \"T.56\" text format, that has a \"sequence lead in\" to determine different language codes,\n",
        "and may have special character codes that permits, for example, sending simple graphs as text.\n",
        "This was part of ISDN (Integrated Services Digital Network) and since GSM is based on this,\n",
        "made its way to the mobile phone. Messages could be sent and received on ISDN phones,\n",
        "and these can send SMS to any GSM phone. The possibility of doing something is one thing,\n",
        "implementing it another, but systems existed from 1988 that sent SMS messages to mobile phones (compare ND-NOTIS).\"\"\""
      ]
    },
    {
      "cell_type": "markdown",
      "metadata": {
        "id": "TbP5RcOApzxU"
      },
      "source": [
        ">  `Question:` How many characters in text"
      ]
    },
    {
      "cell_type": "code",
      "execution_count": null,
      "metadata": {
        "colab": {
          "base_uri": "https://localhost:8080/"
        },
        "id": "O5Yf5MB8pzxV",
        "outputId": "e687d43b-9aac-4f2e-d2ee-eefd7fbc62a5"
      },
      "outputs": [
        {
          "output_type": "execute_result",
          "data": {
            "text/plain": [
              "1493"
            ]
          },
          "metadata": {},
          "execution_count": 2
        }
      ],
      "source": [
        "# CODE HERE\n",
        "text = \"\"\"The University of Hawaii began using radio to send digital information as early as 1971,using ALOHAnet.\n",
        "Friedhelm Hillebrand conceptualised SMS in 1984 while working for Deutsche Telekom. Sitting at a typewriter at home,\n",
        "Hillebrand typed out random sentences and counted every letter, number, punctuation, and space.\n",
        "Almost every time, the messages contained fewer than 160 characters, thus giving the basis for the\n",
        "limit one could type via text messaging. With Bernard Ghillebaert of France Télécom, he developed\n",
        "a proposal for the GSM (Groupe Spécial Mobile) meeting in February 1985 in Oslo.\n",
        "The first technical solution evolved in a GSM subgroup under the leadership of Finn Trosby.\n",
        "It was further developed under the leadership of Kevin Holley and Ian Harris (see Short Message Service).\n",
        "SMS forms an integral part of SS7 (Signalling System No. 7). Under SS7, it is a \"state\" with a 160 character data,\n",
        "coded in the ITU-T \"T.56\" text format, that has a \"sequence lead in\" to determine different language codes,\n",
        "and may have special character codes that permits, for example, sending simple graphs as text.\n",
        "This was part of ISDN (Integrated Services Digital Network) and since GSM is based on this,\n",
        "made its way to the mobile phone. Messages could be sent and received on ISDN phones,\n",
        "and these can send SMS to any GSM phone. The possibility of doing something is one thing,\n",
        "implementing it another, but systems existed from 1988 that sent SMS messages to mobile phones (compare ND-NOTIS).\"\"\"\n",
        "len(text)\n"
      ]
    },
    {
      "cell_type": "code",
      "execution_count": null,
      "metadata": {
        "id": "_x0KJW3BpzxW",
        "outputId": "78cbb9cd-6b07-4435-ca13-11f036e33a05"
      },
      "outputs": [
        {
          "data": {
            "text/plain": [
              "1507"
            ]
          },
          "execution_count": 3,
          "metadata": {},
          "output_type": "execute_result"
        }
      ],
      "source": []
    },
    {
      "cell_type": "markdown",
      "metadata": {
        "id": "KwW1ihTKpzxX"
      },
      "source": [
        ">  `Question:` How many words are there in the \"text\""
      ]
    },
    {
      "cell_type": "code",
      "execution_count": null,
      "metadata": {
        "colab": {
          "base_uri": "https://localhost:8080/"
        },
        "id": "DMy5Gza2pzxY",
        "outputId": "d3920ce1-5ad2-491c-8bed-d120dc9416ae"
      },
      "outputs": [
        {
          "output_type": "stream",
          "name": "stdout",
          "text": [
            "244\n"
          ]
        }
      ],
      "source": [
        "# CODE HERE\n",
        "print(len(text.split()))"
      ]
    },
    {
      "cell_type": "code",
      "execution_count": null,
      "metadata": {
        "id": "tN4Im3yZpzxY",
        "outputId": "7963edd1-a7c8-41f2-8a85-79f13eee584f"
      },
      "outputs": [
        {
          "data": {
            "text/plain": [
              "244"
            ]
          },
          "execution_count": 5,
          "metadata": {},
          "output_type": "execute_result"
        }
      ],
      "source": []
    },
    {
      "cell_type": "markdown",
      "metadata": {
        "id": "M1olYvtqpzxZ"
      },
      "source": [
        ">  `Question:` How many unique words in the \"text\""
      ]
    },
    {
      "cell_type": "code",
      "execution_count": null,
      "metadata": {
        "colab": {
          "base_uri": "https://localhost:8080/"
        },
        "id": "Ag28357vpzxb",
        "outputId": "a389893f-9ac5-4127-8ffd-e2367a62cca9"
      },
      "outputs": [
        {
          "output_type": "stream",
          "name": "stdout",
          "text": [
            "174\n"
          ]
        }
      ],
      "source": [
        "# CODE HERE\n",
        "print(len(set(text.split())))"
      ]
    },
    {
      "cell_type": "code",
      "execution_count": null,
      "metadata": {
        "id": "DuBZuQ2Opzxd",
        "outputId": "272b632b-8082-4409-9a29-98bd0bedbe0d"
      },
      "outputs": [
        {
          "data": {
            "text/plain": [
              "174"
            ]
          },
          "execution_count": 7,
          "metadata": {},
          "output_type": "execute_result"
        }
      ],
      "source": []
    },
    {
      "cell_type": "markdown",
      "metadata": {
        "id": "xbUHWXJgpzxe"
      },
      "source": [
        ">  `Question:` Find Lexical diversity\n",
        "\n",
        "lexical_diversity = (number of words)/(number of unique words)"
      ]
    },
    {
      "cell_type": "code",
      "execution_count": null,
      "metadata": {
        "colab": {
          "base_uri": "https://localhost:8080/"
        },
        "id": "rDY8wytEpzxf",
        "outputId": "bc3c63b8-16f1-4301-b23f-a68a5ce5301d"
      },
      "outputs": [
        {
          "output_type": "stream",
          "name": "stdout",
          "text": [
            "1.4022988505747127\n"
          ]
        }
      ],
      "source": [
        "numberofwords = len(text.split())\n",
        "numberofuniquewords = len(set(text.split()))\n",
        "lexical_diversity = numberofwords/numberofuniquewords\n",
        "print(lexical_diversity)"
      ]
    },
    {
      "cell_type": "markdown",
      "metadata": {
        "id": "VWZiSYfapzxg"
      },
      "source": [
        ">  `Question:` Count how many \"the\" in text"
      ]
    },
    {
      "cell_type": "code",
      "execution_count": null,
      "metadata": {
        "id": "bX_s13BXpzxh"
      },
      "outputs": [],
      "source": [
        "# CODE HERE"
      ]
    },
    {
      "cell_type": "code",
      "execution_count": null,
      "metadata": {
        "colab": {
          "base_uri": "https://localhost:8080/"
        },
        "id": "LvhJ55pepzxh",
        "outputId": "eee11e67-ac9a-4053-e1d1-668fb66a3943"
      },
      "outputs": [
        {
          "output_type": "execute_result",
          "data": {
            "text/plain": [
              "11"
            ]
          },
          "metadata": {},
          "execution_count": 9
        }
      ],
      "source": [
        "text.count(\"the\")"
      ]
    },
    {
      "cell_type": "markdown",
      "metadata": {
        "id": "ccY-sxxypzxi"
      },
      "source": [
        ">  `Question:` Count how many \"a\" in text"
      ]
    },
    {
      "cell_type": "code",
      "execution_count": null,
      "metadata": {
        "colab": {
          "base_uri": "https://localhost:8080/"
        },
        "id": "7Oxe_eWMpzxj",
        "outputId": "db003b13-099a-4da5-f160-4de1f1fa4629"
      },
      "outputs": [
        {
          "output_type": "execute_result",
          "data": {
            "text/plain": [
              "89"
            ]
          },
          "metadata": {},
          "execution_count": 10
        }
      ],
      "source": [
        "text.count(\"a\")"
      ]
    },
    {
      "cell_type": "markdown",
      "metadata": {
        "id": "VaTbHZ-Spzxj"
      },
      "source": [
        ">  `Question:` Extract First 10 words in text"
      ]
    },
    {
      "cell_type": "code",
      "execution_count": null,
      "metadata": {
        "id": "EVMHc4rdpzxj"
      },
      "outputs": [],
      "source": [
        "# CODE HERE"
      ]
    },
    {
      "cell_type": "code",
      "execution_count": null,
      "metadata": {
        "colab": {
          "base_uri": "https://localhost:8080/"
        },
        "id": "TTBth_nKpzxk",
        "outputId": "aeafc252-08bd-4a5c-ed59-e3dffec27fd7"
      },
      "outputs": [
        {
          "output_type": "execute_result",
          "data": {
            "text/plain": [
              "['The',\n",
              " 'University',\n",
              " 'of',\n",
              " 'Hawaii',\n",
              " 'began',\n",
              " 'using',\n",
              " 'radio',\n",
              " 'to',\n",
              " 'send',\n",
              " 'digital']"
            ]
          },
          "metadata": {},
          "execution_count": 11
        }
      ],
      "source": [
        "text.split()[:10]"
      ]
    },
    {
      "cell_type": "markdown",
      "metadata": {
        "id": "ri1kCFkmpzxk"
      },
      "source": [
        ">  `Question:` Append \" Innomatics Reseach Labs\" after first 10 words in the text"
      ]
    },
    {
      "cell_type": "code",
      "execution_count": 18,
      "metadata": {
        "colab": {
          "base_uri": "https://localhost:8080/"
        },
        "id": "1YhHexDopzxl",
        "outputId": "a966e8ed-e6c7-4d4a-a3e3-cea2eb56912f"
      },
      "outputs": [
        {
          "output_type": "stream",
          "name": "stdout",
          "text": [
            "The University of Hawaii began using radio to send digital Innomatics Reseach Labs\n"
          ]
        }
      ],
      "source": [
        "print(\" \".join(text.split()[:10])+\" Innomatics Reseach Labs\")"
      ]
    },
    {
      "cell_type": "code",
      "execution_count": null,
      "metadata": {
        "id": "0JfrzN9Tpzxl",
        "outputId": "8daab169-c08f-4a5b-b9ab-c72b8356b67c"
      },
      "outputs": [
        {
          "data": {
            "text/plain": [
              "'The University of Hawaii began using radio to send digital Innomatics Reseach Labs'"
            ]
          },
          "execution_count": 2,
          "metadata": {},
          "output_type": "execute_result"
        }
      ],
      "source": []
    },
    {
      "cell_type": "markdown",
      "metadata": {
        "id": "ALtoVzjfpzxl"
      },
      "source": [
        ">  `Question:` Extract First Fourteen (14) character in text"
      ]
    },
    {
      "cell_type": "code",
      "execution_count": null,
      "metadata": {
        "colab": {
          "base_uri": "https://localhost:8080/"
        },
        "id": "I-cEsW2xpzxm",
        "outputId": "819115a0-c33f-4ca8-ce48-ce4302bc2089"
      },
      "outputs": [
        {
          "output_type": "stream",
          "name": "stdout",
          "text": [
            "The University\n"
          ]
        }
      ],
      "source": [
        "# CODE HERE\n",
        "print(text[:14])"
      ]
    },
    {
      "cell_type": "code",
      "execution_count": null,
      "metadata": {
        "id": "tuDf6yOTpzxm",
        "outputId": "bd529585-5363-45a4-d104-23fb6216c1b9"
      },
      "outputs": [
        {
          "data": {
            "text/plain": [
              "'The University'"
            ]
          },
          "execution_count": 17,
          "metadata": {},
          "output_type": "execute_result"
        }
      ],
      "source": []
    },
    {
      "cell_type": "markdown",
      "metadata": {
        "id": "9GEPfemFpzxm"
      },
      "source": [
        ">  `Question:` Extract first Fourteen (14) words in text"
      ]
    },
    {
      "cell_type": "code",
      "execution_count": null,
      "metadata": {
        "id": "DvS10Yvrpzxn"
      },
      "outputs": [],
      "source": [
        "# CODE HERE"
      ]
    },
    {
      "cell_type": "code",
      "execution_count": null,
      "metadata": {
        "colab": {
          "base_uri": "https://localhost:8080/"
        },
        "id": "dphgllRRpzxn",
        "outputId": "76b05b3a-44d1-4246-deb6-bdbc7e1c4b20"
      },
      "outputs": [
        {
          "output_type": "stream",
          "name": "stdout",
          "text": [
            "['The', 'University', 'of', 'Hawaii', 'began', 'using', 'radio', 'to', 'send', 'digital', 'information', 'as', 'early', 'as']\n"
          ]
        }
      ],
      "source": [
        "print(text.split()[:14])"
      ]
    },
    {
      "cell_type": "markdown",
      "metadata": {
        "id": "b9TvAA3wpzxo"
      },
      "source": [
        ">  `Question:` Extract First 10 words in text\n",
        "- Convert every letter into ***upper*** case\n",
        "- Convert every letter into ***lower*** case"
      ]
    },
    {
      "cell_type": "code",
      "execution_count": null,
      "metadata": {
        "colab": {
          "base_uri": "https://localhost:8080/"
        },
        "id": "K2baXjLipzxo",
        "outputId": "6700e78a-c9ef-4cd2-abff-cacc592cd97b"
      },
      "outputs": [
        {
          "output_type": "stream",
          "name": "stdout",
          "text": [
            "THE UNIVERSITY OF HAWAII BEGAN USING RADIO TO SEND DIGITAL \n",
            "the university of hawaii began using radio to send digital \n"
          ]
        }
      ],
      "source": [
        "# CODE HERE\n",
        "\n",
        "print((text[:59]).upper())\n",
        "print((text[:59]).lower())\n"
      ]
    },
    {
      "cell_type": "code",
      "execution_count": null,
      "metadata": {
        "id": "dVXh_qnypzxo",
        "outputId": "11f1c452-adec-4bfd-c129-cd0617ac722e"
      },
      "outputs": [
        {
          "data": {
            "text/plain": [
              "'THE UNIVERSITY OF HAWAII BEGAN USING RADIO TO SEND DIGITAL'"
            ]
          },
          "execution_count": 21,
          "metadata": {},
          "output_type": "execute_result"
        }
      ],
      "source": [
        "\n"
      ]
    },
    {
      "cell_type": "code",
      "execution_count": null,
      "metadata": {
        "id": "LmAyZMx3pzxp"
      },
      "outputs": [],
      "source": [
        "# CODE HERE"
      ]
    },
    {
      "cell_type": "code",
      "execution_count": null,
      "metadata": {
        "id": "WadTm3oCpzxp",
        "outputId": "5d115a5e-60bc-45a9-e7c8-f11763003b57"
      },
      "outputs": [
        {
          "data": {
            "text/plain": [
              "'the university of hawaii began using radio to send digital'"
            ]
          },
          "execution_count": 23,
          "metadata": {},
          "output_type": "execute_result"
        }
      ],
      "source": []
    },
    {
      "cell_type": "markdown",
      "metadata": {
        "id": "GfNqDuuEpzxr"
      },
      "source": [
        ">  `Question:`  Find the list of letter starting with\n",
        "- u\n",
        "- o\n",
        "> `hint - You need to use for loop for this`"
      ]
    },
    {
      "cell_type": "code",
      "execution_count": null,
      "metadata": {
        "id": "IupfpTnCpzxt"
      },
      "outputs": [],
      "source": [
        "# CODE HERE"
      ]
    },
    {
      "cell_type": "code",
      "execution_count": 22,
      "metadata": {
        "colab": {
          "base_uri": "https://localhost:8080/"
        },
        "id": "JvUcIovGpzxw",
        "outputId": "b304142f-f6cc-4b42-b255-4e9f1d6895e6"
      },
      "outputs": [
        {
          "output_type": "stream",
          "name": "stdout",
          "text": [
            "{'in', 'ss7', 'service).', 'may', 'he', 'since', 'meeting', 'codes', 'network)', 'one', 'an', 'be', 'itu-t', 'on', 'determine', 'télécom,', 'random', 'fewer', 'thus', 'characters,', 'evolved', '(see', 'to', 'technical', 'possibility', 'conceptualised', 'counted', 'space.', 'has', 'made', 'but', 'bernard', 'proposal', 'isdn', 'under', 'phones', 'at', 'integral', 'radio', '(compare', 'way', 'its', 'language', 'data,', 'ss7,', 'kevin', 'ghillebaert', 'digital', 'with', 'phone.', 'first', '(groupe', 'any', '\"t.56\"', 'gsm', 'alohanet.', 'this,', 'message', 'text', 'thing,', '(signalling', '1985', 'limit', 'can', 'deutsche', 'was', 'type', 'friedhelm', 'holley', 'system', '1984', 'oslo.', 'sending', 'a', 'another,', '(integrated', 'sentences', 'hillebrand', '\"state\"', 'finn', 'typed', 'every', 'contained', 'this', 'telekom.', 'punctuation,', 'giving', 'while', 'could', 'no.', 'than', 'forms', 'existed', 'it', 'solution', 'using', 'typewriter', '1988', 'messages', 'france', 'these', 'messaging.', 'and', 'systems', 'part', 'number,', 'early', 'from', 'working', 'phones,', 'subgroup', 'february', 'developed', 'that', 'spécial', 'simple', 'mobile)', 'have', 'as', '160', 'via', 'text.', 'the', 'services', 'university', '7).', 'home,', 'permits,', 'letter,', 'send', 'format,', 'something', 'leadership', 'based', 'almost', 'example,', 'sitting', 'further', '\"sequence', 'graphs', 'out', 'mobile', 'information', 'short', 'trosby.', '1971,using', 'sms', 'special', 'hawaii', 'nd-notis).', 'received', 'doing', 'character', 'lead', 'codes,', 'different', 'is', 'in\"', 'harris', 'of', 'coded', 'implementing', 'ian', 'for', 'basis', 'began', 'time,', 'sent'}\n",
            "{'under', 'using', 'university'}\n"
          ]
        }
      ],
      "source": [
        "set1=set(text.lower().split())\n",
        "print(set1)\n",
        "set2 = set()\n",
        "for i in set1:\n",
        "    if i[0] in \"u\":\n",
        "        set2.add(i)\n",
        "print(set2)\n",
        "\n",
        "#################\n",
        "#for i in text.lower().split():\n",
        " #   if i[0] in \"u\":\n",
        "  #     print(i)\n"
      ]
    },
    {
      "cell_type": "code",
      "execution_count": 25,
      "metadata": {
        "id": "Cnb86NF0pzxx",
        "outputId": "b58769dd-4f7f-4113-ccae-4c59727ef9b4",
        "colab": {
          "base_uri": "https://localhost:8080/"
        }
      },
      "outputs": [
        {
          "output_type": "stream",
          "name": "stdout",
          "text": [
            "None\n"
          ]
        },
        {
          "output_type": "execute_result",
          "data": {
            "text/plain": [
              "{'a', 'r', 's', 't'}"
            ]
          },
          "metadata": {},
          "execution_count": 25
        }
      ],
      "source": []
    },
    {
      "cell_type": "code",
      "execution_count": 27,
      "metadata": {
        "id": "WgCQDXtepzxx",
        "outputId": "e5a764ac-aab0-47be-da91-7de5e84e64cb",
        "colab": {
          "base_uri": "https://localhost:8080/"
        }
      },
      "outputs": [
        {
          "output_type": "stream",
          "name": "stdout",
          "text": [
            "{'in', 'ss7', 'service).', 'may', 'he', 'since', 'meeting', 'codes', 'network)', 'one', 'an', 'be', 'itu-t', 'on', 'determine', 'télécom,', 'random', 'fewer', 'thus', 'characters,', 'evolved', '(see', 'to', 'technical', 'possibility', 'conceptualised', 'counted', 'space.', 'has', 'made', 'but', 'bernard', 'proposal', 'isdn', 'under', 'phones', 'at', 'integral', 'radio', '(compare', 'way', 'its', 'language', 'data,', 'ss7,', 'kevin', 'ghillebaert', 'digital', 'with', 'phone.', 'first', '(groupe', 'any', '\"t.56\"', 'gsm', 'alohanet.', 'this,', 'message', 'text', 'thing,', '(signalling', '1985', 'limit', 'can', 'deutsche', 'was', 'type', 'friedhelm', 'holley', 'system', '1984', 'oslo.', 'sending', 'a', 'another,', '(integrated', 'sentences', 'hillebrand', '\"state\"', 'finn', 'typed', 'every', 'contained', 'this', 'telekom.', 'punctuation,', 'giving', 'while', 'could', 'no.', 'than', 'forms', 'existed', 'it', 'solution', 'using', 'typewriter', '1988', 'messages', 'france', 'these', 'messaging.', 'and', 'systems', 'part', 'number,', 'early', 'from', 'working', 'phones,', 'subgroup', 'february', 'developed', 'that', 'spécial', 'simple', 'mobile)', 'have', 'as', '160', 'via', 'text.', 'the', 'services', 'university', '7).', 'home,', 'permits,', 'letter,', 'send', 'format,', 'something', 'leadership', 'based', 'almost', 'example,', 'sitting', 'further', '\"sequence', 'graphs', 'out', 'mobile', 'information', 'short', 'trosby.', '1971,using', 'sms', 'special', 'hawaii', 'nd-notis).', 'received', 'doing', 'character', 'lead', 'codes,', 'different', 'is', 'in\"', 'harris', 'of', 'coded', 'implementing', 'ian', 'for', 'basis', 'began', 'time,', 'sent'}\n",
            "{'of', 'on', 'oslo.', 'one', 'out'}\n"
          ]
        }
      ],
      "source": [
        "set1=set(text.lower().split())\n",
        "print(set1)\n",
        "set2 = set()\n",
        "for i in set1:\n",
        "    if i[0] in \"o\":\n",
        "        set2.add(i)\n",
        "print(set2)"
      ]
    },
    {
      "cell_type": "markdown",
      "metadata": {
        "id": "VGnIVMsLpzxx"
      },
      "source": [
        ">  `Question:` Find the list of letter ending with\n",
        "- e\n",
        "- n\n",
        "> `hint - You need to use for loop for this`"
      ]
    },
    {
      "cell_type": "code",
      "execution_count": 29,
      "metadata": {
        "id": "kLTqkMCYpzxy",
        "colab": {
          "base_uri": "https://localhost:8080/"
        },
        "outputId": "f699f81b-0dc2-4a8b-f3fd-d8749d133f3b"
      },
      "outputs": [
        {
          "output_type": "stream",
          "name": "stdout",
          "text": [
            "{'in', 'ss7', 'service).', 'may', 'he', 'since', 'meeting', 'codes', 'network)', 'one', 'an', 'be', 'itu-t', 'on', 'determine', 'télécom,', 'random', 'fewer', 'thus', 'characters,', 'evolved', '(see', 'to', 'technical', 'possibility', 'conceptualised', 'counted', 'space.', 'has', 'made', 'but', 'bernard', 'proposal', 'isdn', 'under', 'phones', 'at', 'integral', 'radio', '(compare', 'way', 'its', 'language', 'data,', 'ss7,', 'kevin', 'ghillebaert', 'digital', 'with', 'phone.', 'first', '(groupe', 'any', '\"t.56\"', 'gsm', 'alohanet.', 'this,', 'message', 'text', 'thing,', '(signalling', '1985', 'limit', 'can', 'deutsche', 'was', 'type', 'friedhelm', 'holley', 'system', '1984', 'oslo.', 'sending', 'a', 'another,', '(integrated', 'sentences', 'hillebrand', '\"state\"', 'finn', 'typed', 'every', 'contained', 'this', 'telekom.', 'punctuation,', 'giving', 'while', 'could', 'no.', 'than', 'forms', 'existed', 'it', 'solution', 'using', 'typewriter', '1988', 'messages', 'france', 'these', 'messaging.', 'and', 'systems', 'part', 'number,', 'early', 'from', 'working', 'phones,', 'subgroup', 'february', 'developed', 'that', 'spécial', 'simple', 'mobile)', 'have', 'as', '160', 'via', 'text.', 'the', 'services', 'university', '7).', 'home,', 'permits,', 'letter,', 'send', 'format,', 'something', 'leadership', 'based', 'almost', 'example,', 'sitting', 'further', '\"sequence', 'graphs', 'out', 'mobile', 'information', 'short', 'trosby.', '1971,using', 'sms', 'special', 'hawaii', 'nd-notis).', 'received', 'doing', 'character', 'lead', 'codes,', 'different', 'is', 'in\"', 'harris', 'of', 'coded', 'implementing', 'ian', 'for', 'basis', 'began', 'time,', 'sent'}\n",
            "{'simple', 'have', '(compare', 'the', 'language', 'he', 'since', '(groupe', 'while', '\"sequence', 'one', 'mobile', 'be', 'determine', 'message', 'france', 'these', '(see', 'deutsche', 'type', 'made'}\n"
          ]
        },
        {
          "output_type": "execute_result",
          "data": {
            "text/plain": [
              "21"
            ]
          },
          "metadata": {},
          "execution_count": 29
        }
      ],
      "source": [
        "# CODE HERE\n",
        "set1=set(text.lower().split())\n",
        "print(set1)\n",
        "set2 = set()\n",
        "for i in set1:\n",
        "    if i.endswith(\"e\") :\n",
        "        set2.add(i)\n",
        "print(set2)\n",
        "len(set2)"
      ]
    },
    {
      "cell_type": "code",
      "execution_count": 30,
      "metadata": {
        "id": "j8JGY2Hmpzxy",
        "colab": {
          "base_uri": "https://localhost:8080/"
        },
        "outputId": "166d49b6-f627-4d13-f52d-e44dedbd1bb1"
      },
      "outputs": [
        {
          "output_type": "stream",
          "name": "stdout",
          "text": [
            "{'in', 'ss7', 'service).', 'may', 'he', 'since', 'meeting', 'codes', 'network)', 'one', 'an', 'be', 'itu-t', 'on', 'determine', 'télécom,', 'random', 'fewer', 'thus', 'characters,', 'evolved', '(see', 'to', 'technical', 'possibility', 'conceptualised', 'counted', 'space.', 'has', 'made', 'but', 'bernard', 'proposal', 'isdn', 'under', 'phones', 'at', 'integral', 'radio', '(compare', 'way', 'its', 'language', 'data,', 'ss7,', 'kevin', 'ghillebaert', 'digital', 'with', 'phone.', 'first', '(groupe', 'any', '\"t.56\"', 'gsm', 'alohanet.', 'this,', 'message', 'text', 'thing,', '(signalling', '1985', 'limit', 'can', 'deutsche', 'was', 'type', 'friedhelm', 'holley', 'system', '1984', 'oslo.', 'sending', 'a', 'another,', '(integrated', 'sentences', 'hillebrand', '\"state\"', 'finn', 'typed', 'every', 'contained', 'this', 'telekom.', 'punctuation,', 'giving', 'while', 'could', 'no.', 'than', 'forms', 'existed', 'it', 'solution', 'using', 'typewriter', '1988', 'messages', 'france', 'these', 'messaging.', 'and', 'systems', 'part', 'number,', 'early', 'from', 'working', 'phones,', 'subgroup', 'february', 'developed', 'that', 'spécial', 'simple', 'mobile)', 'have', 'as', '160', 'via', 'text.', 'the', 'services', 'university', '7).', 'home,', 'permits,', 'letter,', 'send', 'format,', 'something', 'leadership', 'based', 'almost', 'example,', 'sitting', 'further', '\"sequence', 'graphs', 'out', 'mobile', 'information', 'short', 'trosby.', '1971,using', 'sms', 'special', 'hawaii', 'nd-notis).', 'received', 'doing', 'character', 'lead', 'codes,', 'different', 'is', 'in\"', 'harris', 'of', 'coded', 'implementing', 'ian', 'for', 'basis', 'began', 'time,', 'sent'}\n",
            "{'on', 'in', 'solution', 'can', 'than', 'ian', 'kevin', 'an', 'information', 'finn', 'began', 'isdn'}\n"
          ]
        },
        {
          "output_type": "execute_result",
          "data": {
            "text/plain": [
              "12"
            ]
          },
          "metadata": {},
          "execution_count": 30
        }
      ],
      "source": [
        "set1=set(text.lower().split())\n",
        "print(set1)\n",
        "set2 = set()\n",
        "for i in set1:\n",
        "    if i.endswith(\"n\") :\n",
        "        set2.add(i)\n",
        "print(set2)\n",
        "len(set2)"
      ]
    },
    {
      "cell_type": "code",
      "execution_count": null,
      "metadata": {
        "id": "J32pOv6Dpzxz",
        "outputId": "323cb850-4c0a-4523-e487-7375a9679fd0"
      },
      "outputs": [
        {
          "name": "stdout",
          "output_type": "stream",
          "text": [
            "List of words ends with e is:\n",
            "{'be', 'these', 'deutsche', 'one', 'made', 'he', 'message', 'type', 'mobile', '(compare', 'france', 'determine', '(see', 'have', '(groupe', 'while', 'since', '\"sequence', 'simple', 'language', 'the'}\n"
          ]
        }
      ],
      "source": []
    },
    {
      "cell_type": "code",
      "execution_count": null,
      "metadata": {
        "id": "ZnZhanN_pzxz",
        "outputId": "91d8118f-8818-4cb2-ca95-8e69dafc5978"
      },
      "outputs": [
        {
          "name": "stdout",
          "output_type": "stream",
          "text": [
            "List of words ends with n is:\n",
            "{'kevin', 'than', 'in', 'ian', 'an', 'solution', 'finn', 'on', 'can', 'information', 'isdn', 'began'}\n"
          ]
        }
      ],
      "source": []
    },
    {
      "cell_type": "markdown",
      "metadata": {
        "id": "5A5Jm1djpzxz"
      },
      "source": [
        ">  `Question:` Extract first 10 words of text and Capitalize first letter of each word"
      ]
    },
    {
      "cell_type": "code",
      "execution_count": null,
      "metadata": {
        "colab": {
          "base_uri": "https://localhost:8080/"
        },
        "id": "hZaqd5_0pzx0",
        "outputId": "df3f4fe7-55e8-4f13-db0f-3a694f201805"
      },
      "outputs": [
        {
          "output_type": "stream",
          "name": "stdout",
          "text": [
            "The University Of Hawaii Began Using Radio To Send Digital \n"
          ]
        }
      ],
      "source": [
        "# CODE HERE\n",
        "print((text[:59]).title())\n"
      ]
    },
    {
      "cell_type": "code",
      "execution_count": null,
      "metadata": {
        "id": "HEtXY28Jpzx0",
        "outputId": "e002838f-efbf-4beb-d783-98203dc22d15"
      },
      "outputs": [
        {
          "data": {
            "text/plain": [
              "'The University Of Hawaii Began Using Radio To Send Digital'"
            ]
          },
          "execution_count": 33,
          "metadata": {},
          "output_type": "execute_result"
        }
      ],
      "source": []
    },
    {
      "cell_type": "markdown",
      "metadata": {
        "id": "G0TepGIhpzx1"
      },
      "source": [
        ">  `Question:` Replace the word \"University\" with name \"Innomatics\" in text"
      ]
    },
    {
      "cell_type": "code",
      "execution_count": null,
      "metadata": {
        "colab": {
          "base_uri": "https://localhost:8080/"
        },
        "id": "y5gmxvzHpzx1",
        "outputId": "c5783292-3b15-463f-bf77-abf205f29a59"
      },
      "outputs": [
        {
          "output_type": "stream",
          "name": "stdout",
          "text": [
            "The Innomatics of Hawaii began using radio to send digital information as early as 1971,using ALOHAnet. \n",
            "Friedhelm Hillebrand conceptualised SMS in 1984 while working for Deutsche Telekom. Sitting at a typewriter at home, \n",
            "Hillebrand typed out random sentences and counted every letter, number, punctuation, and space. \n",
            "Almost every time, the messages contained fewer than 160 characters, thus giving the basis for the \n",
            "limit one could type via text messaging. With Bernard Ghillebaert of France Télécom, he developed \n",
            "a proposal for the GSM (Groupe Spécial Mobile) meeting in February 1985 in Oslo. \n",
            "The first technical solution evolved in a GSM subgroup under the leadership of Finn Trosby. \n",
            "It was further developed under the leadership of Kevin Holley and Ian Harris (see Short Message Service). \n",
            "SMS forms an integral part of SS7 (Signalling System No. 7). Under SS7, it is a \"state\" with a 160 character data, \n",
            "coded in the ITU-T \"T.56\" text format, that has a \"sequence lead in\" to determine different language codes, \n",
            "and may have special character codes that permits, for example, sending simple graphs as text. \n",
            "This was part of ISDN (Integrated Services Digital Network) and since GSM is based on this, \n",
            "made its way to the mobile phone. Messages could be sent and received on ISDN phones, \n",
            "and these can send SMS to any GSM phone. The possibility of doing something is one thing, \n",
            "implementing it another, but systems existed from 1988 that sent SMS messages to mobile phones (compare ND-NOTIS).\n"
          ]
        }
      ],
      "source": [
        "# CODE HERE\n",
        "print(text.replace(\"University\" ,\"Innomatics\"))"
      ]
    },
    {
      "cell_type": "code",
      "execution_count": null,
      "metadata": {
        "scrolled": false,
        "id": "i62JZsKopzx2",
        "outputId": "d1c57ad6-857f-4229-fe17-90c9a9d476a4"
      },
      "outputs": [
        {
          "name": "stdout",
          "output_type": "stream",
          "text": [
            "The Innomatics of Hawaii began using radio to send digital information as early as 1971,using ALOHAnet. \n",
            "Friedhelm Hillebrand conceptualised SMS in 1984 while working for Deutsche Telekom. Sitting at a typewriter at home, \n",
            "Hillebrand typed out random sentences and counted every letter, number, punctuation, and space. \n",
            "Almost every time, the messages contained fewer than 160 characters, thus giving the basis for the \n",
            "limit one could type via text messaging. With Bernard Ghillebaert of France Télécom, he developed \n",
            "a proposal for the GSM (Groupe Spécial Mobile) meeting in February 1985 in Oslo. \n",
            "The first technical solution evolved in a GSM subgroup under the leadership of Finn Trosby. \n",
            "It was further developed under the leadership of Kevin Holley and Ian Harris (see Short Message Service). \n",
            "SMS forms an integral part of SS7 (Signalling System No. 7). Under SS7, it is a \"state\" with a 160 character data, \n",
            "coded in the ITU-T \"T.56\" text format, that has a \"sequence lead in\" to determine different language codes, \n",
            "and may have special character codes that permits, for example, sending simple graphs as text. \n",
            "This was part of ISDN (Integrated Services Digital Network) and since GSM is based on this, \n",
            "made its way to the mobile phone. Messages could be sent and received on ISDN phones, \n",
            "and these can send SMS to any GSM phone. The possibility of doing something is one thing, \n",
            "implementing it another, but systems existed from 1988 that sent SMS messages to mobile phones (compare ND-NOTIS).\n"
          ]
        }
      ],
      "source": []
    },
    {
      "cell_type": "markdown",
      "metadata": {
        "id": "P32Wx8h_pzx2"
      },
      "source": [
        "> `Question:`  Convert the \"text\" into sentances and store those into one variable called \"sentance\""
      ]
    },
    {
      "cell_type": "code",
      "execution_count": null,
      "metadata": {
        "colab": {
          "base_uri": "https://localhost:8080/"
        },
        "id": "cqvl01W1pzx3",
        "outputId": "f220ab47-bf53-48c0-cf27-0ef131cd01c3"
      },
      "outputs": [
        {
          "output_type": "stream",
          "name": "stdout",
          "text": [
            "['The University of Hawaii began using radio to send digital information as early as 1971,using ALOHAnet', ' \\nFriedhelm Hillebrand conceptualised SMS in 1984 while working for Deutsche Telekom', ' Sitting at a typewriter at home, \\nHillebrand typed out random sentences and counted every letter, number, punctuation, and space', ' \\nAlmost every time, the messages contained fewer than 160 characters, thus giving the basis for the \\nlimit one could type via text messaging', ' With Bernard Ghillebaert of France Télécom, he developed \\na proposal for the GSM (Groupe Spécial Mobile) meeting in February 1985 in Oslo', ' \\nThe first technical solution evolved in a GSM subgroup under the leadership of Finn Trosby', ' \\nIt was further developed under the leadership of Kevin Holley and Ian Harris (see Short Message Service)', ' \\nSMS forms an integral part of SS7 (Signalling System No', ' 7)', ' Under SS7, it is a \"state\" with a 160 character data, \\ncoded in the ITU-T \"T', '56\" text format, that has a \"sequence lead in\" to determine different language codes, \\nand may have special character codes that permits, for example, sending simple graphs as text', ' \\nThis was part of ISDN (Integrated Services Digital Network) and since GSM is based on this, \\nmade its way to the mobile phone', ' Messages could be sent and received on ISDN phones, \\nand these can send SMS to any GSM phone', ' The possibility of doing something is one thing, \\nimplementing it another, but systems existed from 1988 that sent SMS messages to mobile phones (compare ND-NOTIS)', '']\n"
          ]
        }
      ],
      "source": [
        "# CODE HERE\n",
        "sentence = text.split(\".\")\n",
        "print(sentence)"
      ]
    },
    {
      "cell_type": "code",
      "execution_count": null,
      "metadata": {
        "id": "F-8XkGG1pzx4",
        "outputId": "f9404a30-3ab2-43fc-f0c5-3b2350bc2d9d"
      },
      "outputs": [
        {
          "data": {
            "text/plain": [
              "['The University of Hawaii began using radio to send digital information as early as 1971,using ALOHAnet',\n",
              " ' \\nFriedhelm Hillebrand conceptualised SMS in 1984 while working for Deutsche Telekom',\n",
              " ' Sitting at a typewriter at home, \\nHillebrand typed out random sentences and counted every letter, number, punctuation, and space',\n",
              " ' \\nAlmost every time, the messages contained fewer than 160 characters, thus giving the basis for the \\nlimit one could type via text messaging',\n",
              " ' With Bernard Ghillebaert of France Télécom, he developed \\na proposal for the GSM (Groupe Spécial Mobile) meeting in February 1985 in Oslo',\n",
              " ' \\nThe first technical solution evolved in a GSM subgroup under the leadership of Finn Trosby',\n",
              " ' \\nIt was further developed under the leadership of Kevin Holley and Ian Harris (see Short Message Service)',\n",
              " ' \\nSMS forms an integral part of SS7 (Signalling System No',\n",
              " ' 7)',\n",
              " ' Under SS7, it is a \"state\" with a 160 character data, \\ncoded in the ITU-T \"T',\n",
              " '56\" text format, that has a \"sequence lead in\" to determine different language codes, \\nand may have special character codes that permits, for example, sending simple graphs as text',\n",
              " ' \\nThis was part of ISDN (Integrated Services Digital Network) and since GSM is based on this, \\nmade its way to the mobile phone',\n",
              " ' Messages could be sent and received on ISDN phones, \\nand these can send SMS to any GSM phone',\n",
              " ' The possibility of doing something is one thing, \\nimplementing it another, but systems existed from 1988 that sent SMS messages to mobile phones (compare ND-NOTIS)',\n",
              " '']"
            ]
          },
          "execution_count": 2,
          "metadata": {},
          "output_type": "execute_result"
        }
      ],
      "source": []
    },
    {
      "cell_type": "markdown",
      "metadata": {
        "id": "zrLpfYi_pzx5"
      },
      "source": [
        " `Question:`\n",
        "\n",
        "> 1.From the above sentance remove '\\n'\n"
      ]
    },
    {
      "cell_type": "code",
      "execution_count": null,
      "metadata": {
        "colab": {
          "base_uri": "https://localhost:8080/"
        },
        "id": "B4fk0NfDpzx6",
        "outputId": "a95ca03e-f8dd-4079-ce14-8a20b1107085"
      },
      "outputs": [
        {
          "output_type": "stream",
          "name": "stdout",
          "text": [
            "The University of Hawaii began using radio to send digital information as early as 1971,using ALOHAnet\n"
          ]
        }
      ],
      "source": [
        "print(sentence[0])"
      ]
    },
    {
      "cell_type": "markdown",
      "metadata": {
        "id": "aRlbm1rjpzx8"
      },
      "source": [
        " > 2. From the above sentace print the first word from each sentance\n"
      ]
    },
    {
      "cell_type": "code",
      "execution_count": null,
      "metadata": {
        "colab": {
          "base_uri": "https://localhost:8080/"
        },
        "id": "7hutR8Lspzx9",
        "outputId": "92cff0b9-02e0-4cc8-b9c0-ba050d383f7c"
      },
      "outputs": [
        {
          "output_type": "stream",
          "name": "stdout",
          "text": [
            "The University of Hawaii began using radio to send digital information as early as 1971,using ALOHAnet\n"
          ]
        }
      ],
      "source": [
        "print(sentence[::][0])"
      ]
    },
    {
      "cell_type": "markdown",
      "metadata": {
        "id": "E9sL2GZopzx-"
      },
      "source": [
        "> 3. From the above sentace print even posioned sentances"
      ]
    },
    {
      "cell_type": "code",
      "execution_count": 31,
      "metadata": {
        "id": "Pa0Pj9Mapzx_",
        "colab": {
          "base_uri": "https://localhost:8080/"
        },
        "outputId": "59381477-6a86-48a9-dac3-cbcfa71adf8e"
      },
      "outputs": [
        {
          "output_type": "stream",
          "name": "stdout",
          "text": [
            "TeUiest fHwi ea sn ai osn iia nomto serya 91uigAOAe\n"
          ]
        }
      ],
      "source": [
        "sentace = \"The University of Hawaii began using radio to send digital information as early as 1971,using ALOHAnet\"\n",
        "print(sentace[::2])"
      ]
    },
    {
      "cell_type": "markdown",
      "metadata": {
        "id": "MsGtxUKUpzx_"
      },
      "source": [
        ">   `Question:` If the following string is given as input to the program:\n",
        "\n",
        "- H1e2l3l4o5w6o7r8l9d\n",
        "\n",
        ">   `Output:`  Then, the output of the program should be:\n",
        "\n",
        "- Helloworld"
      ]
    },
    {
      "cell_type": "code",
      "execution_count": 32,
      "metadata": {
        "id": "pruEwQZOpzyA",
        "outputId": "aa0a229c-d2fc-49fd-cb06-873f09740d4c",
        "colab": {
          "base_uri": "https://localhost:8080/"
        }
      },
      "outputs": [
        {
          "output_type": "stream",
          "name": "stdout",
          "text": [
            "Helloworld\n"
          ]
        }
      ],
      "source": [
        "# CODE HERE\n",
        "s = \"H1e2l3l4o5w6o7r8l9d\"\n",
        "print(s[::2])"
      ]
    },
    {
      "cell_type": "markdown",
      "metadata": {
        "id": "vf-MIZ7_pzyB"
      },
      "source": [
        "# [Innomatics Research Labs](https:/innomatics.in/)\n",
        "[www.innomatics.in](https:/innomatics.in/)"
      ]
    },
    {
      "cell_type": "code",
      "execution_count": null,
      "metadata": {
        "id": "WhjPFhWmpzyB"
      },
      "outputs": [],
      "source": []
    }
  ],
  "metadata": {
    "kernelspec": {
      "display_name": "Python 3",
      "language": "python",
      "name": "python3"
    },
    "language_info": {
      "codemirror_mode": {
        "name": "ipython",
        "version": 3
      },
      "file_extension": ".py",
      "mimetype": "text/x-python",
      "name": "python",
      "nbconvert_exporter": "python",
      "pygments_lexer": "ipython3",
      "version": "3.8.5"
    },
    "colab": {
      "provenance": []
    }
  },
  "nbformat": 4,
  "nbformat_minor": 0
}